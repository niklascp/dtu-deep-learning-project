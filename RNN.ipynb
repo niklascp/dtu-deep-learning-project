{
 "cells": [
  {
   "cell_type": "markdown",
   "metadata": {},
   "source": [
    "# Model 1 - Recurrent neural network (RNN) using only the kinematic features."
   ]
  },
  {
   "cell_type": "code",
   "execution_count": 74,
   "metadata": {},
   "outputs": [],
   "source": [
    "%load_ext autoreload\n",
    "%autoreload 2\n",
    "\n",
    "import sys\n",
    "\n",
    "sys.path.append('./src')\n",
    "from data_utils import *\n",
    "clear_output(wait=False)"
   ]
  },
  {
   "cell_type": "markdown",
   "metadata": {},
   "source": [
    "### Load train, validation and test data"
   ]
  },
  {
   "cell_type": "code",
   "execution_count": 75,
   "metadata": {},
   "outputs": [],
   "source": [
    "user_train, user_val, user_test = train, val, test = train_test_data_split()"
   ]
  },
  {
   "cell_type": "code",
   "execution_count": 76,
   "metadata": {},
   "outputs": [],
   "source": [
    "data_train = pd.concat([create_data_frame(*load_user_data(user), segmentation=True) for user in user_train]).reset_index(drop=True)\n",
    "data_val = pd.concat([create_data_frame(*load_user_data(user), segmentation=True) for user in user_val]).reset_index(drop=True)\n",
    "data_test = pd.concat([create_data_frame(*load_user_data(user), segmentation=True) for user in user_test]).reset_index(drop=True)"
   ]
  },
  {
   "cell_type": "markdown",
   "metadata": {},
   "source": [
    "#### Example input data"
   ]
  },
  {
   "cell_type": "code",
   "execution_count": 77,
   "metadata": {},
   "outputs": [
    {
     "data": {
      "text/html": [
       "<div>\n",
       "<style scoped>\n",
       "    .dataframe tbody tr th:only-of-type {\n",
       "        vertical-align: middle;\n",
       "    }\n",
       "\n",
       "    .dataframe tbody tr th {\n",
       "        vertical-align: top;\n",
       "    }\n",
       "\n",
       "    .dataframe thead th {\n",
       "        text-align: right;\n",
       "    }\n",
       "</style>\n",
       "<table border=\"1\" class=\"dataframe\">\n",
       "  <thead>\n",
       "    <tr style=\"text-align: right;\">\n",
       "      <th></th>\n",
       "      <th>user</th>\n",
       "      <th>ts</th>\n",
       "      <th>x</th>\n",
       "      <th>y</th>\n",
       "      <th>label</th>\n",
       "      <th>image_ix</th>\n",
       "      <th>delta_t</th>\n",
       "      <th>delta_d</th>\n",
       "      <th>bearing</th>\n",
       "      <th>speed</th>\n",
       "      <th>tod</th>\n",
       "      <th>segment_id</th>\n",
       "      <th>segment_ix</th>\n",
       "      <th>segment_point_count</th>\n",
       "    </tr>\n",
       "  </thead>\n",
       "  <tbody>\n",
       "    <tr>\n",
       "      <th>44</th>\n",
       "      <td>8</td>\n",
       "      <td>2018-06-19 11:19:21</td>\n",
       "      <td>720902.529966</td>\n",
       "      <td>6.187934e+06</td>\n",
       "      <td>0</td>\n",
       "      <td>632</td>\n",
       "      <td>138.0</td>\n",
       "      <td>71.906582</td>\n",
       "      <td>2.382204</td>\n",
       "      <td>0.521062</td>\n",
       "      <td>2</td>\n",
       "      <td>43</td>\n",
       "      <td>0</td>\n",
       "      <td>7</td>\n",
       "    </tr>\n",
       "    <tr>\n",
       "      <th>45</th>\n",
       "      <td>8</td>\n",
       "      <td>2018-06-19 11:20:16</td>\n",
       "      <td>720939.552159</td>\n",
       "      <td>6.187975e+06</td>\n",
       "      <td>0</td>\n",
       "      <td>633</td>\n",
       "      <td>55.0</td>\n",
       "      <td>55.503567</td>\n",
       "      <td>0.840590</td>\n",
       "      <td>1.009156</td>\n",
       "      <td>2</td>\n",
       "      <td>43</td>\n",
       "      <td>1</td>\n",
       "      <td>7</td>\n",
       "    </tr>\n",
       "    <tr>\n",
       "      <th>46</th>\n",
       "      <td>8</td>\n",
       "      <td>2018-06-19 11:21:12</td>\n",
       "      <td>720881.561210</td>\n",
       "      <td>6.188045e+06</td>\n",
       "      <td>0</td>\n",
       "      <td>634</td>\n",
       "      <td>56.0</td>\n",
       "      <td>90.421608</td>\n",
       "      <td>2.267039</td>\n",
       "      <td>1.614672</td>\n",
       "      <td>2</td>\n",
       "      <td>43</td>\n",
       "      <td>2</td>\n",
       "      <td>7</td>\n",
       "    </tr>\n",
       "    <tr>\n",
       "      <th>47</th>\n",
       "      <td>8</td>\n",
       "      <td>2018-06-19 11:22:07</td>\n",
       "      <td>720874.984099</td>\n",
       "      <td>6.188093e+06</td>\n",
       "      <td>0</td>\n",
       "      <td>635</td>\n",
       "      <td>55.0</td>\n",
       "      <td>48.346900</td>\n",
       "      <td>1.707259</td>\n",
       "      <td>0.879035</td>\n",
       "      <td>2</td>\n",
       "      <td>43</td>\n",
       "      <td>3</td>\n",
       "      <td>7</td>\n",
       "    </tr>\n",
       "    <tr>\n",
       "      <th>48</th>\n",
       "      <td>8</td>\n",
       "      <td>2018-06-19 11:22:59</td>\n",
       "      <td>720927.287216</td>\n",
       "      <td>6.188142e+06</td>\n",
       "      <td>0</td>\n",
       "      <td>636</td>\n",
       "      <td>52.0</td>\n",
       "      <td>71.568118</td>\n",
       "      <td>0.751280</td>\n",
       "      <td>1.376310</td>\n",
       "      <td>2</td>\n",
       "      <td>43</td>\n",
       "      <td>4</td>\n",
       "      <td>7</td>\n",
       "    </tr>\n",
       "    <tr>\n",
       "      <th>49</th>\n",
       "      <td>8</td>\n",
       "      <td>2018-06-19 11:23:02</td>\n",
       "      <td>720903.916798</td>\n",
       "      <td>6.188161e+06</td>\n",
       "      <td>0</td>\n",
       "      <td>637</td>\n",
       "      <td>3.0</td>\n",
       "      <td>30.552280</td>\n",
       "      <td>2.441732</td>\n",
       "      <td>10.184093</td>\n",
       "      <td>2</td>\n",
       "      <td>43</td>\n",
       "      <td>5</td>\n",
       "      <td>7</td>\n",
       "    </tr>\n",
       "  </tbody>\n",
       "</table>\n",
       "</div>"
      ],
      "text/plain": [
       "    user                  ts              x             y  label  image_ix  \\\n",
       "44     8 2018-06-19 11:19:21  720902.529966  6.187934e+06      0       632   \n",
       "45     8 2018-06-19 11:20:16  720939.552159  6.187975e+06      0       633   \n",
       "46     8 2018-06-19 11:21:12  720881.561210  6.188045e+06      0       634   \n",
       "47     8 2018-06-19 11:22:07  720874.984099  6.188093e+06      0       635   \n",
       "48     8 2018-06-19 11:22:59  720927.287216  6.188142e+06      0       636   \n",
       "49     8 2018-06-19 11:23:02  720903.916798  6.188161e+06      0       637   \n",
       "\n",
       "    delta_t    delta_d   bearing      speed  tod  segment_id  segment_ix  \\\n",
       "44    138.0  71.906582  2.382204   0.521062    2          43           0   \n",
       "45     55.0  55.503567  0.840590   1.009156    2          43           1   \n",
       "46     56.0  90.421608  2.267039   1.614672    2          43           2   \n",
       "47     55.0  48.346900  1.707259   0.879035    2          43           3   \n",
       "48     52.0  71.568118  0.751280   1.376310    2          43           4   \n",
       "49      3.0  30.552280  2.441732  10.184093    2          43           5   \n",
       "\n",
       "    segment_point_count  \n",
       "44                    7  \n",
       "45                    7  \n",
       "46                    7  \n",
       "47                    7  \n",
       "48                    7  \n",
       "49                    7  "
      ]
     },
     "execution_count": 77,
     "metadata": {},
     "output_type": "execute_result"
    }
   ],
   "source": [
    "data_train[data_train['segment_point_count'] >= 6].head(6)"
   ]
  },
  {
   "cell_type": "markdown",
   "metadata": {},
   "source": [
    "#### Numer of training data points"
   ]
  },
  {
   "cell_type": "code",
   "execution_count": 78,
   "metadata": {},
   "outputs": [
    {
     "data": {
      "text/plain": [
       "1156467"
      ]
     },
     "execution_count": 78,
     "metadata": {},
     "output_type": "execute_result"
    }
   ],
   "source": [
    "len(data_train[data_train['segment_point_count'] >= 6])"
   ]
  },
  {
   "cell_type": "code",
   "execution_count": 79,
   "metadata": {},
   "outputs": [],
   "source": [
    "import torch\n",
    "import torch.nn as nn\n",
    "import torch.nn.functional as F\n",
    "import torch.optim as optim"
   ]
  },
  {
   "cell_type": "code",
   "execution_count": 142,
   "metadata": {},
   "outputs": [],
   "source": [
    "def create_dataset(df):\n",
    "    seq = np.stack([np.roll(df[['delta_d', 'bearing']].values, i, axis = 0) for i in range(5, -1, -1)], axis = 1)\n",
    "    seq = seq[df['segment_ix'] >= 5]\n",
    "    \n",
    "    #tod = np.stack([np.roll(df['ts'].dt.hour.values, i, axis = 0) for i in range(6)], axis = 1)    \n",
    "    tod = df.loc[df['segment_ix'] >= 5, 'tod'].values\n",
    "    tod_one_hot = np.eye(5)[tod]    \n",
    "    \n",
    "    #target = np.stack([np.roll(df['label'].values, i, axis = 0) for i in range(6)], axis = 1)\n",
    "    target = df.loc[df['segment_ix'] >= 5, 'label'].values\n",
    "    \n",
    "    return torch.utils.data.TensorDataset(torch.Tensor(seq), torch.Tensor(tod_one_hot), torch.LongTensor(target))"
   ]
  },
  {
   "cell_type": "markdown",
   "metadata": {},
   "source": [
    "## Example Input/output data from ``TensorDataset``"
   ]
  },
  {
   "cell_type": "code",
   "execution_count": 143,
   "metadata": {},
   "outputs": [
    {
     "name": "stdout",
     "output_type": "stream",
     "text": [
      "X_seq : torch.Size([3, 6, 2])\n",
      "tensor([[ 3.2272e+01, -2.2767e-02],\n",
      "        [ 3.1733e+01,  3.3175e-02],\n",
      "        [ 3.3404e+01,  1.2880e-01],\n",
      "        [ 3.1641e+01,  2.6400e-01],\n",
      "        [ 3.2044e+01,  2.9528e-01],\n",
      "        [ 3.5251e+01,  3.6128e-01]])\n",
      "X_tod : torch.Size([3, 5])\n",
      "tensor([0., 0., 0., 0., 1.])\n",
      "y : torch.Size([3])\n",
      "tensor(0)\n"
     ]
    }
   ],
   "source": [
    "demo_dataset = create_dataset(data_train)\n",
    "\n",
    "for X_seq, X_tod, y in torch.utils.data.DataLoader(demo_dataset, batch_size=3, shuffle=True):\n",
    "    print('X_seq :', X_seq.shape)\n",
    "    print(X_seq[0, :, :])\n",
    "    print('X_tod :', X_tod.shape)\n",
    "    print(X_tod[0])\n",
    "    print('y :', y.shape)\n",
    "    print(y[0])\n",
    "    break"
   ]
  },
  {
   "cell_type": "markdown",
   "metadata": {},
   "source": [
    "### Hyper Parameters"
   ]
  },
  {
   "cell_type": "code",
   "execution_count": 144,
   "metadata": {},
   "outputs": [],
   "source": [
    "# Network Parameters\n",
    "SEQ_LENGTH = 6\n",
    "SEQ_FEATURES = 2\n",
    "TOD_INPUT_DIM = 5\n",
    "RNN_HIDDEN_DIM = 4\n",
    "RNN_NUM_LAYERS = 2\n",
    "RNN_BIDIRECT = False\n",
    "\n",
    "NUM_CLASSES = 2\n",
    "\n",
    "# Training Parameters\n",
    "NUM_EPOCH = 40\n",
    "BATCH_SIZE = 12000\n",
    "DROPOUT_PROP = .20\n",
    "LEARNING_RATE = 0.1\n",
    "LEARNING_DECAY_FACTOR = 0.1\n",
    "LEARNING_DECAY_EPOCHS = [35]"
   ]
  },
  {
   "cell_type": "markdown",
   "metadata": {},
   "source": [
    "#### Define Data Loaders"
   ]
  },
  {
   "cell_type": "code",
   "execution_count": 145,
   "metadata": {},
   "outputs": [],
   "source": [
    "train_dataloader = torch.utils.data.DataLoader(create_dataset(data_train), batch_size=BATCH_SIZE, shuffle=True)\n",
    "val_dataloader = torch.utils.data.DataLoader(create_dataset(data_val), batch_size=BATCH_SIZE, shuffle=True)\n",
    "test_dataloader = torch.utils.data.DataLoader(create_dataset(data_test), batch_size=BATCH_SIZE, shuffle=True)"
   ]
  },
  {
   "cell_type": "markdown",
   "metadata": {},
   "source": [
    "#### How many data points are lost due to building sequences?"
   ]
  },
  {
   "cell_type": "code",
   "execution_count": 146,
   "metadata": {},
   "outputs": [
    {
     "name": "stdout",
     "output_type": "stream",
     "text": [
      "2.92%\n"
     ]
    }
   ],
   "source": [
    "print(f'{1 - len(create_dataset(data_train)) / len(data_train):.2%}')"
   ]
  },
  {
   "cell_type": "code",
   "execution_count": 147,
   "metadata": {},
   "outputs": [],
   "source": [
    "def adjust_lr(optimizer, epoch):\n",
    "    number_decay_points_passed = np.sum(epoch >= np.array(LEARNING_DECAY_EPOCHS))\n",
    "    lr = LEARNING_RATE * (LEARNING_DECAY_FACTOR ** number_decay_points_passed)\n",
    "    for param_group in optimizer.param_groups:\n",
    "        param_group['lr'] = lr\n",
    "    return lr"
   ]
  },
  {
   "cell_type": "code",
   "execution_count": 163,
   "metadata": {},
   "outputs": [],
   "source": [
    "class RnnNet(nn.Module):\n",
    "\n",
    "    def __init__(self):\n",
    "        super(RnnNet, self).__init__()\n",
    "        \n",
    "        rnn_output_dim = SEQ_LENGTH*RNN_HIDDEN_DIM\n",
    "        if RNN_BIDIRECT:\n",
    "            rnn_output_dim *= 2\n",
    "        hfc = 256 * 2\n",
    "        hfc8 = hfc // 5\n",
    "        \n",
    "        self.DO = nn.Dropout(DROPOUT_PROP)    \n",
    "        \n",
    "        self.BNgru_0_K = nn.BatchNorm1d(SEQ_LENGTH)\n",
    "        self.rnn_1_1 = nn.GRU(SEQ_FEATURES, RNN_HIDDEN_DIM, RNN_NUM_LAYERS, batch_first=True, bidirectional=RNN_BIDIRECT)\n",
    "        self.BNgru_1_1 = nn.BatchNorm1d(RNN_HIDDEN_DIM * SEQ_LENGTH)\n",
    "                            \n",
    "        self.fc_out_1 = nn.Linear(rnn_output_dim + TOD_INPUT_DIM, hfc)\n",
    "        \n",
    "        self.BNFC_hfc_out_1 = nn.BatchNorm1d(hfc)\n",
    "        \n",
    "        self.fc_out_2 = nn.Linear(hfc, hfc8)\n",
    "        \n",
    "        self.BNFC_hfc_out_2 = nn.BatchNorm1d(hfc8)\n",
    "                \n",
    "        self.l_out = nn.Linear(in_features=hfc8, out_features=NUM_CLASSES, bias=False)\n",
    "\n",
    "    def forward(self, x_seq, x_tod):\n",
    "        features = []\n",
    "        \"\"\"        \n",
    "        out = {}\n",
    "        x_fuse = torch.cat([x_dist.unsqueeze(1),x_br.unsqueeze(1)],dim=1)\n",
    "        x_fuse=self.BNgru_0_K(x_fuse)\n",
    "        \n",
    "        x_fuse = x_fuse.unsqueeze(2)\n",
    "        #print('7',x_fuse.shape)\n",
    "        x_fuse = x_fuse.reshape(sequence_size, -1, x_fuse.shape[1])\n",
    "        #print('8',x_fuse.shape)\n",
    "        \n",
    "        #input of shape (seq_len, batch, input_size)\n",
    "        x_fuse, h_img = self.rnn_1_1(x_fuse)\n",
    "        #print('9',x_fuse.shape)\n",
    "        \n",
    "        x_fuse = x_fuse.reshape(int(x_fuse.shape[1]*x_fuse.shape[0]), -1)\n",
    "        #print('10',x_fuse.shape)\n",
    "        \n",
    "        x_fuse = self.DO(self.BNgru_1_1(relu(x_fuse)))\n",
    "        #print('11',x_fuse.shape)\n",
    "        \n",
    "        features.append(x_fuse)\n",
    "        \n",
    "        #>>>>> x_dTS <<<<<#\n",
    "        #print('ToD******** 1 ',x_dTS.shape)\n",
    "        x_dTS = self.BNgru_0_TS(x_dTS)       \n",
    "        #print('ToD******** 2 ',x_dTS.shape)\n",
    "        features.append(x_dTS)\n",
    "        \n",
    "        ## Output layer where all features are in use ##\n",
    "        #print('12',features[0].shape, features[1].shape)\n",
    "        features_final = torch.cat(features, dim=1)\n",
    "        #print('13',features_final.shape)\n",
    "        features_final = self.BNFC_hfc_out_0(features_final)\n",
    "        #print('14',features_final.shape)\n",
    "        features_final = self.DO(self.BNFC_hfc_out_1(relu(self.fc_out_1(features_final))))\n",
    "        #print('15',features_final.shape)\n",
    "        features_final = self.DO(self.BNFC_hfc_out_2(relu(self.fc_out_2(features_final))))\n",
    "        #print('16',features_final.shape)\n",
    "        #out = log_softmax(self.l_out(features_final), dim=1) \n",
    "        out = softmax(self.l_out(features_final), dim=1) \n",
    "        #print('17',self.l_out(features_final).shape)\n",
    "        return out\n",
    "        \"\"\"        \n",
    "        \n",
    "        # x_seq #\n",
    "        x_seq = self.BNgru_0_K(x_seq)   \n",
    "        \n",
    "        # x_seq : (batch, seq_lenth, seq_features)                              \n",
    "        x_seq = x_seq.permute(1, 0, 2)        \n",
    "        # x_seq : (seq_lenth, batch, seq_features)\n",
    "                \n",
    "        x_seq, h_n = self.rnn_1_1(x_seq)\n",
    "        # x_seq : (seq_len, batch, num_directions * hidden_size):\n",
    "        # h_n : (num_layers * num_directions, batch, hidden_size)\n",
    "\n",
    "        x_seq = x_seq.permute(1, 0, 2)\n",
    "        # x_seq : (batch, seq_lenth, num_directions * hidden_size)\n",
    "        x_seq = x_seq.flatten(start_dim = 1)\n",
    "        x_seq = self.BNgru_1_1(x_seq)\n",
    "        x_seq = F.relu(x_seq)        \n",
    "        x_seq = self.DO(x_seq)\n",
    "        \n",
    "        features.append(x_seq)\n",
    "        \n",
    "        # x_tod #\n",
    "        x_tod = x_tod\n",
    "        features.append(x_tod)\n",
    "        \n",
    "        ## Output layer where all features are in use ##\n",
    "        \n",
    "        features_final = torch.cat(features, dim=1)\n",
    "        features_final = features_final.contiguous().view(features_final.shape[0], -1)\n",
    "        \n",
    "        #features_final = self.BNFC_hfc_out_0(features_final)\n",
    "        \n",
    "        features_final = self.DO(F.relu(self.BNFC_hfc_out_1(self.fc_out_1(features_final))))\n",
    "        \n",
    "        features_final = self.DO(F.relu(self.BNFC_hfc_out_2(self.fc_out_2(features_final))))\n",
    "        \n",
    "        out = self.l_out(features_final)\n",
    "        #out = out.view(features_final.shape[0], self.seq_length, self.output_dim)        \n",
    "        out = F.softmax(out, dim=1) \n",
    "        \n",
    "        \n",
    "        return out"
   ]
  },
  {
   "cell_type": "markdown",
   "metadata": {},
   "source": [
    "#### Define class weights due to large class im-balance"
   ]
  },
  {
   "cell_type": "code",
   "execution_count": 164,
   "metadata": {},
   "outputs": [
    {
     "data": {
      "text/plain": [
       "[1.0, 0.36125205657481785]"
      ]
     },
     "execution_count": 164,
     "metadata": {},
     "output_type": "execute_result"
    }
   ],
   "source": [
    "class_weights = [(data_train['label'] == 0).sum()/(data_train['label'] == x).sum() for x in range(NUM_CLASSES)]\n",
    "class_weights"
   ]
  },
  {
   "cell_type": "markdown",
   "metadata": {},
   "source": [
    "#### Define model, optimizer and loss"
   ]
  },
  {
   "cell_type": "code",
   "execution_count": 165,
   "metadata": {},
   "outputs": [],
   "source": [
    "device = torch.device(\"cuda\" if torch.cuda.is_available() else \"cpu\") # PyTorch v0.4.0\n",
    "model = RnnNet().to(device)\n",
    "optimizer = optim.Adam(model.parameters(), lr=LEARNING_RATE, weight_decay=1e-10)\n",
    "criterion = nn.CrossEntropyLoss(weight = torch.Tensor(class_weights).to(device))"
   ]
  },
  {
   "cell_type": "markdown",
   "metadata": {},
   "source": [
    "#### Number of parameters"
   ]
  },
  {
   "cell_type": "code",
   "execution_count": 166,
   "metadata": {},
   "outputs": [
    {
     "data": {
      "text/plain": [
       "69394"
      ]
     },
     "execution_count": 166,
     "metadata": {},
     "output_type": "execute_result"
    }
   ],
   "source": [
    "np.sum([np.product(x.cpu().detach().numpy().shape) for x in model.parameters()])"
   ]
  },
  {
   "cell_type": "markdown",
   "metadata": {},
   "source": [
    "#### Test input/output of model"
   ]
  },
  {
   "cell_type": "code",
   "execution_count": 167,
   "metadata": {},
   "outputs": [
    {
     "name": "stdout",
     "output_type": "stream",
     "text": [
      "torch.Size([3, 2])\n"
     ]
    }
   ],
   "source": [
    "out = model(X_seq.to(device), X_tod.to(device))\n",
    "print(out.shape)"
   ]
  },
  {
   "cell_type": "code",
   "execution_count": 168,
   "metadata": {},
   "outputs": [
    {
     "data": {
      "text/plain": [
       "tensor([[0.3423, 0.6577],\n",
       "        [0.6698, 0.3302]], grad_fn=<CopyBackwards>)"
      ]
     },
     "execution_count": 168,
     "metadata": {},
     "output_type": "execute_result"
    }
   ],
   "source": [
    "out[:2].cpu()"
   ]
  },
  {
   "cell_type": "code",
   "execution_count": 169,
   "metadata": {},
   "outputs": [],
   "source": [
    "phases = {\n",
    "    'train': {\n",
    "        'dataloader': train_dataloader,\n",
    "        'is_training': True,\n",
    "    },\n",
    "    'validation': {\n",
    "        'dataloader': val_dataloader,\n",
    "        'is_training': False,\n",
    "    },\n",
    "    'test': {\n",
    "        'dataloader': test_dataloader,\n",
    "        'is_training': False,\n",
    "    }\n",
    "}"
   ]
  },
  {
   "cell_type": "markdown",
   "metadata": {},
   "source": [
    "### Train / Validation loop"
   ]
  },
  {
   "cell_type": "code",
   "execution_count": 170,
   "metadata": {},
   "outputs": [
    {
     "data": {
      "image/png": "[encoded data removed]",
      "text/plain": [
       "<Figure size 1152x648 with 1 Axes>"
      ]
     },
     "metadata": {
      "needs_background": "light"
     },
     "output_type": "display_data"
    }
   ],
   "source": [
    "for epoch in range(1, NUM_EPOCH + 1):\n",
    "    \n",
    "    for phase_name, phase in phases.items():\n",
    "        epoach_loss = 0.0\n",
    "                \n",
    "        phase_is_training = phase['is_training']\n",
    "        phase_dataloader = phase['dataloader']\n",
    "        model.train(phase_is_training)\n",
    "        \n",
    "        # Ajust and save the learning rate in the phase dict\n",
    "        if phase_is_training:\n",
    "            lr = adjust_lr(optimizer, epoch)\n",
    "            phase.setdefault('lr', []).append(lr)\n",
    "            \n",
    "        # Iterate over each bath in the phase\n",
    "        for i, batch in enumerate(phase_dataloader, 1):\n",
    "            X_seq, X_tod, y = batch\n",
    "\n",
    "            X_seq = X_seq.to(device)\n",
    "            X_tod = X_tod.to(device)\n",
    "            y = y.to(device)\n",
    "\n",
    "            with torch.set_grad_enabled(phase_is_training):\n",
    "                out = model(X_seq, X_tod)\n",
    "                loss = criterion(out, y)\n",
    "\n",
    "            if phase_is_training:\n",
    "                optimizer.zero_grad()\n",
    "                loss.backward()\n",
    "                nn.utils.clip_grad_value_(model.parameters(), 0.5)\n",
    "                optimizer.step()\n",
    "        \n",
    "            epoach_loss += loss.item()\n",
    "        \n",
    "        # Save the loss for the epoch in the phase dict\n",
    "        phase.setdefault('loss', []).append(epoach_loss/i)\n",
    "        \n",
    "    clear_output(wait=True)\n",
    "    fig, ax = plt.subplots(figsize = (16, 9))\n",
    "    #ax.set_yscale('log')\n",
    "    \n",
    "    for phase_name, phase in phases.items():\n",
    "        ax.plot(np.arange(1, epoch + 1), phase['loss'], label = phase_name)        \n",
    "    \n",
    "    ax.legend()\n",
    "    plt.show();            "
   ]
  },
  {
   "cell_type": "markdown",
   "metadata": {},
   "source": [
    "### Validation/Test prediction loop"
   ]
  },
  {
   "cell_type": "code",
   "execution_count": 171,
   "metadata": {},
   "outputs": [],
   "source": [
    "for phase_name, phase in phases.items():\n",
    "    if phase['is_training']: \n",
    "        continue\n",
    "    \n",
    "    phase_dataloader = phase['dataloader']\n",
    "    phase['predicted'] = []\n",
    "    phase['true'] = []\n",
    "    \n",
    "    for i, batch in enumerate(phase_dataloader, 1):\n",
    "        X_seq, X_tod, y = batch\n",
    "\n",
    "        phase['true'].extend(list(y.numpy()))\n",
    "        \n",
    "        X_seq = X_seq.to(device)\n",
    "        X_tod = X_tod.to(device)\n",
    "        y = y.to(device)\n",
    "        \n",
    "        with torch.no_grad():\n",
    "            out = model(X_seq, X_tod)\n",
    "            probability, predicted = torch.max(out, 1)\n",
    "            correct = (predicted == y).cpu().numpy()\n",
    "            \n",
    "        phase['predicted'].extend(list(predicted.cpu().numpy()))        "
   ]
  },
  {
   "cell_type": "markdown",
   "metadata": {},
   "source": [
    "### Final results"
   ]
  },
  {
   "cell_type": "code",
   "execution_count": 172,
   "metadata": {},
   "outputs": [
    {
     "name": "stdout",
     "output_type": "stream",
     "text": [
      "validation\n",
      "              precision    recall  f1-score   support\n",
      "\n",
      "      Motion       0.75      0.79      0.77     43215\n",
      "        Stop       0.87      0.84      0.86     72334\n",
      "\n",
      "   micro avg       0.82      0.82      0.82    115549\n",
      "   macro avg       0.81      0.82      0.81    115549\n",
      "weighted avg       0.83      0.82      0.82    115549\n",
      "\n",
      "test\n",
      "              precision    recall  f1-score   support\n",
      "\n",
      "      Motion       0.66      0.86      0.74     42425\n",
      "        Stop       0.94      0.85      0.89    122881\n",
      "\n",
      "   micro avg       0.85      0.85      0.85    165306\n",
      "   macro avg       0.80      0.85      0.82    165306\n",
      "weighted avg       0.87      0.85      0.85    165306\n",
      "\n"
     ]
    }
   ],
   "source": [
    "for phase_name, phase in phases.items():\n",
    "    if phase['is_training']: \n",
    "        continue\n",
    "    \n",
    "    print(phase_name)\n",
    "    print(classification_report(phase['true'], phase['predicted'], target_names = ['Motion','Stop']))"
   ]
  },
  {
   "cell_type": "code",
   "execution_count": null,
   "metadata": {},
   "outputs": [],
   "source": []
  },
  {
   "cell_type": "code",
   "execution_count": null,
   "metadata": {},
   "outputs": [],
   "source": []
  }
 ],
 "metadata": {
  "kernelspec": {
   "display_name": "Python 3",
   "language": "python",
   "name": "python3"
  },
  "language_info": {
   "codemirror_mode": {
    "name": "ipython",
    "version": 3
   },
   "file_extension": ".py",
   "mimetype": "text/x-python",
   "name": "python",
   "nbconvert_exporter": "python",
   "pygments_lexer": "ipython3",
   "version": "3.6.7"
  }
 },
 "nbformat": 4,
 "nbformat_minor": 2
}
