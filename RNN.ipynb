{
 "cells": [
  {
   "cell_type": "markdown",
   "metadata": {},
   "source": [
    "# Model 1 - Recurrent neural network (RNN) using only the kinematic features."
   ]
  },
  {
   "cell_type": "code",
   "execution_count": 7,
   "metadata": {},
   "outputs": [],
   "source": [
    "%load_ext autoreload\n",
    "%autoreload 2\n",
    "\n",
    "import sys\n",
    "\n",
    "sys.path.append('./src')\n",
    "from data_utils import *\n",
    "clear_output(wait=False)"
   ]
  },
  {
   "cell_type": "markdown",
   "metadata": {},
   "source": [
    "### Load train, validation and test data"
   ]
  },
  {
   "cell_type": "code",
   "execution_count": 8,
   "metadata": {},
   "outputs": [],
   "source": [
    "user_train, user_val, user_test = train, val, test = train_test_data_split()"
   ]
  },
  {
   "cell_type": "code",
   "execution_count": 9,
   "metadata": {},
   "outputs": [],
   "source": [
    "data_train = pd.concat([create_data_frame(*load_user_data(user), segmentation=True) for user in user_train]).reset_index(drop=True)\n",
    "data_val = pd.concat([create_data_frame(*load_user_data(user), segmentation=True) for user in user_val]).reset_index(drop=True)\n",
    "data_test = pd.concat([create_data_frame(*load_user_data(user), segmentation=True) for user in user_test]).reset_index(drop=True)"
   ]
  },
  {
   "cell_type": "markdown",
   "metadata": {},
   "source": [
    "#### Example input data"
   ]
  },
  {
   "cell_type": "code",
   "execution_count": 17,
   "metadata": {},
   "outputs": [
    {
     "data": {
      "text/html": [
       "<div>\n",
       "<style scoped>\n",
       "    .dataframe tbody tr th:only-of-type {\n",
       "        vertical-align: middle;\n",
       "    }\n",
       "\n",
       "    .dataframe tbody tr th {\n",
       "        vertical-align: top;\n",
       "    }\n",
       "\n",
       "    .dataframe thead th {\n",
       "        text-align: right;\n",
       "    }\n",
       "</style>\n",
       "<table border=\"1\" class=\"dataframe\">\n",
       "  <thead>\n",
       "    <tr style=\"text-align: right;\">\n",
       "      <th></th>\n",
       "      <th>user</th>\n",
       "      <th>ts</th>\n",
       "      <th>x</th>\n",
       "      <th>y</th>\n",
       "      <th>label</th>\n",
       "      <th>image_ix</th>\n",
       "      <th>delta_t</th>\n",
       "      <th>delta_d</th>\n",
       "      <th>bearing</th>\n",
       "      <th>speed</th>\n",
       "      <th>tod</th>\n",
       "      <th>segment_id</th>\n",
       "      <th>segment_ix</th>\n",
       "      <th>segment_point_count</th>\n",
       "    </tr>\n",
       "  </thead>\n",
       "  <tbody>\n",
       "    <tr>\n",
       "      <th>10</th>\n",
       "      <td>8</td>\n",
       "      <td>2018-06-19 09:15:56</td>\n",
       "      <td>720894.020948</td>\n",
       "      <td>6.187916e+06</td>\n",
       "      <td>1</td>\n",
       "      <td>598</td>\n",
       "      <td>687.0</td>\n",
       "      <td>384.939328</td>\n",
       "      <td>-1.754788</td>\n",
       "      <td>0.560319</td>\n",
       "      <td>1</td>\n",
       "      <td>5</td>\n",
       "      <td>0</td>\n",
       "      <td>12</td>\n",
       "    </tr>\n",
       "    <tr>\n",
       "      <th>11</th>\n",
       "      <td>8</td>\n",
       "      <td>2018-06-19 09:16:36</td>\n",
       "      <td>720964.458401</td>\n",
       "      <td>6.188294e+06</td>\n",
       "      <td>1</td>\n",
       "      <td>599</td>\n",
       "      <td>40.0</td>\n",
       "      <td>384.974739</td>\n",
       "      <td>1.386793</td>\n",
       "      <td>9.624368</td>\n",
       "      <td>1</td>\n",
       "      <td>5</td>\n",
       "      <td>1</td>\n",
       "      <td>12</td>\n",
       "    </tr>\n",
       "    <tr>\n",
       "      <th>12</th>\n",
       "      <td>8</td>\n",
       "      <td>2018-06-19 09:20:37</td>\n",
       "      <td>720964.671985</td>\n",
       "      <td>6.188294e+06</td>\n",
       "      <td>1</td>\n",
       "      <td>600</td>\n",
       "      <td>241.0</td>\n",
       "      <td>0.246433</td>\n",
       "      <td>-0.522240</td>\n",
       "      <td>0.001023</td>\n",
       "      <td>1</td>\n",
       "      <td>5</td>\n",
       "      <td>2</td>\n",
       "      <td>12</td>\n",
       "    </tr>\n",
       "    <tr>\n",
       "      <th>13</th>\n",
       "      <td>8</td>\n",
       "      <td>2018-06-19 09:22:38</td>\n",
       "      <td>720964.458401</td>\n",
       "      <td>6.188294e+06</td>\n",
       "      <td>1</td>\n",
       "      <td>601</td>\n",
       "      <td>121.0</td>\n",
       "      <td>0.246433</td>\n",
       "      <td>2.619353</td>\n",
       "      <td>0.002037</td>\n",
       "      <td>1</td>\n",
       "      <td>5</td>\n",
       "      <td>3</td>\n",
       "      <td>12</td>\n",
       "    </tr>\n",
       "    <tr>\n",
       "      <th>14</th>\n",
       "      <td>8</td>\n",
       "      <td>2018-06-19 09:26:22</td>\n",
       "      <td>720964.733480</td>\n",
       "      <td>6.188294e+06</td>\n",
       "      <td>1</td>\n",
       "      <td>602</td>\n",
       "      <td>224.0</td>\n",
       "      <td>0.352326</td>\n",
       "      <td>-0.674929</td>\n",
       "      <td>0.001573</td>\n",
       "      <td>1</td>\n",
       "      <td>5</td>\n",
       "      <td>4</td>\n",
       "      <td>12</td>\n",
       "    </tr>\n",
       "    <tr>\n",
       "      <th>15</th>\n",
       "      <td>8</td>\n",
       "      <td>2018-06-19 09:28:42</td>\n",
       "      <td>720964.678251</td>\n",
       "      <td>6.188294e+06</td>\n",
       "      <td>1</td>\n",
       "      <td>603</td>\n",
       "      <td>140.0</td>\n",
       "      <td>0.112091</td>\n",
       "      <td>2.085998</td>\n",
       "      <td>0.000801</td>\n",
       "      <td>1</td>\n",
       "      <td>5</td>\n",
       "      <td>5</td>\n",
       "      <td>12</td>\n",
       "    </tr>\n",
       "  </tbody>\n",
       "</table>\n",
       "</div>"
      ],
      "text/plain": [
       "    user                  ts              x             y  label  image_ix  \\\n",
       "10     8 2018-06-19 09:15:56  720894.020948  6.187916e+06      1       598   \n",
       "11     8 2018-06-19 09:16:36  720964.458401  6.188294e+06      1       599   \n",
       "12     8 2018-06-19 09:20:37  720964.671985  6.188294e+06      1       600   \n",
       "13     8 2018-06-19 09:22:38  720964.458401  6.188294e+06      1       601   \n",
       "14     8 2018-06-19 09:26:22  720964.733480  6.188294e+06      1       602   \n",
       "15     8 2018-06-19 09:28:42  720964.678251  6.188294e+06      1       603   \n",
       "\n",
       "    delta_t     delta_d   bearing     speed  tod  segment_id  segment_ix  \\\n",
       "10    687.0  384.939328 -1.754788  0.560319    1           5           0   \n",
       "11     40.0  384.974739  1.386793  9.624368    1           5           1   \n",
       "12    241.0    0.246433 -0.522240  0.001023    1           5           2   \n",
       "13    121.0    0.246433  2.619353  0.002037    1           5           3   \n",
       "14    224.0    0.352326 -0.674929  0.001573    1           5           4   \n",
       "15    140.0    0.112091  2.085998  0.000801    1           5           5   \n",
       "\n",
       "    segment_point_count  \n",
       "10                   12  \n",
       "11                   12  \n",
       "12                   12  \n",
       "13                   12  \n",
       "14                   12  \n",
       "15                   12  "
      ]
     },
     "execution_count": 17,
     "metadata": {},
     "output_type": "execute_result"
    }
   ],
   "source": [
    "data_train[data_train['segment_point_count'] >= 6].head(6)"
   ]
  },
  {
   "cell_type": "markdown",
   "metadata": {},
   "source": [
    "#### Numer of training data points"
   ]
  },
  {
   "cell_type": "code",
   "execution_count": 16,
   "metadata": {},
   "outputs": [
    {
     "data": {
      "text/plain": [
       "1174200"
      ]
     },
     "execution_count": 16,
     "metadata": {},
     "output_type": "execute_result"
    }
   ],
   "source": [
    "len(data_train[data_train['segment_point_count'] >= 6])"
   ]
  },
  {
   "cell_type": "code",
   "execution_count": 12,
   "metadata": {},
   "outputs": [],
   "source": [
    "import torch\n",
    "import torch.nn as nn\n",
    "import torch.nn.functional as F\n",
    "import torch.optim as optim"
   ]
  },
  {
   "cell_type": "code",
   "execution_count": 13,
   "metadata": {},
   "outputs": [],
   "source": [
    "def create_dataset(df):\n",
    "    seq = np.stack([np.roll(df[['delta_d', 'bearing']].values, i, axis = 0) for i in range(5, -1, -1)], axis = 1)\n",
    "    seq = seq[df['segment_ix'] >= 5]\n",
    "    \n",
    "    #tod = np.stack([np.roll(df['ts'].dt.hour.values, i, axis = 0) for i in range(6)], axis = 1)    \n",
    "    tod = df.loc[df['segment_ix'] >= 5, 'tod'].values\n",
    "    tod_one_hot = np.eye(6)[tod]    \n",
    "    \n",
    "    #target = np.stack([np.roll(df['label'].values, i, axis = 0) for i in range(6)], axis = 1)\n",
    "    target = df.loc[df['segment_ix'] >= 5, 'label'].values\n",
    "    \n",
    "    return torch.utils.data.TensorDataset(torch.Tensor(seq), torch.Tensor(tod_one_hot), torch.LongTensor(target))"
   ]
  },
  {
   "cell_type": "markdown",
   "metadata": {},
   "source": [
    "## Example Input/output data from ``TensorDataset``"
   ]
  },
  {
   "cell_type": "code",
   "execution_count": 20,
   "metadata": {},
   "outputs": [
    {
     "name": "stdout",
     "output_type": "stream",
     "text": [
      "X_seq : torch.Size([3, 6, 2])\n",
      "tensor([[ 0.0000,  0.0000],\n",
      "        [ 2.9638,  2.6561],\n",
      "        [ 2.9638, -0.4855],\n",
      "        [ 0.0000,  0.0000],\n",
      "        [71.9066,  2.3822],\n",
      "        [55.5036,  0.8406]])\n",
      "X_tod : torch.Size([3, 6])\n",
      "tensor([0., 0., 1., 0., 0., 0.])\n",
      "y : torch.Size([3])\n",
      "tensor(0)\n"
     ]
    }
   ],
   "source": [
    "demo_dataset = create_dataset(data_train.head(100))\n",
    "\n",
    "for X_seq, X_tod, y in torch.utils.data.DataLoader(demo_dataset, batch_size=3, shuffle=True):\n",
    "    print('X_seq :', X_seq.shape)\n",
    "    print(X_seq[0, :, :])\n",
    "    print('X_tod :', X_tod.shape)\n",
    "    print(X_tod[0])\n",
    "    print('y :', y.shape)\n",
    "    print(y[0])\n",
    "    break"
   ]
  },
  {
   "cell_type": "markdown",
   "metadata": {},
   "source": [
    "### Hyper Parameters"
   ]
  },
  {
   "cell_type": "code",
   "execution_count": 41,
   "metadata": {},
   "outputs": [],
   "source": [
    "SEQ_LENGTH = 6\n",
    "SEQ_FEATURES = 2\n",
    "TOD_INPUT_DIM = 24\n",
    "RNN_HIDDEN_DIM = 4\n",
    "\n",
    "NUM_CLASSES = 2\n",
    "\n",
    "NUM_EPOCH = 25\n",
    "LEARNING_RATE = 0.1\n",
    "LEARNING_DECAY_FACTOR = 0.1\n",
    "LEARNING_DECAY_EPOCHS = [15, 20]"
   ]
  },
  {
   "cell_type": "markdown",
   "metadata": {},
   "source": [
    "#### Define Data Loaders"
   ]
  },
  {
   "cell_type": "code",
   "execution_count": 42,
   "metadata": {},
   "outputs": [],
   "source": [
    "train_dataloader = torch.utils.data.DataLoader(create_dataset(data_train), batch_size=1000, shuffle=True)\n",
    "val_dataloader = torch.utils.data.DataLoader(create_dataset(data_val), batch_size=1000, shuffle=True)\n",
    "test_dataloader = torch.utils.data.DataLoader(create_dataset(data_test), batch_size=1000, shuffle=True)"
   ]
  },
  {
   "cell_type": "markdown",
   "metadata": {},
   "source": [
    "#### How many data points are lost due to building sequences?"
   ]
  },
  {
   "cell_type": "code",
   "execution_count": 43,
   "metadata": {},
   "outputs": [
    {
     "name": "stdout",
     "output_type": "stream",
     "text": [
      "1.38%\n"
     ]
    }
   ],
   "source": [
    "print(f'{1 - len(create_dataset(data_train)) / len(data_train):.2%}')"
   ]
  },
  {
   "cell_type": "code",
   "execution_count": 44,
   "metadata": {},
   "outputs": [],
   "source": [
    "def adjust_lr(optimizer, epoch):\n",
    "    number_decay_points_passed = np.sum(epoch >= np.array(LEARNING_DECAY_EPOCHS))\n",
    "    lr = LEARNING_RATE * (LEARNING_DECAY_FACTOR ** number_decay_points_passed)\n",
    "    for param_group in optimizer.param_groups:\n",
    "        param_group['lr'] = lr\n",
    "    return lr"
   ]
  },
  {
   "cell_type": "code",
   "execution_count": 45,
   "metadata": {},
   "outputs": [],
   "source": [
    "class RnnNet(nn.Module):\n",
    "\n",
    "    def __init__(self, seq_length, seq_features, hidden_dim, input_tod_dim = 6, output_dim = 2, n_layers = 1, bidirectional=True):\n",
    "        super(RnnNet, self).__init__()\n",
    "        self.seq_length = seq_length\n",
    "        self.seq_features = seq_features\n",
    "        self.input_tod_dim = input_tod_dim\n",
    "        self.hidden_dim = hidden_dim\n",
    "        self.output_dim = output_dim\n",
    "        \n",
    "        drop_prob=0.45\n",
    "        rnn_output_dim = 2*seq_length*hidden_dim if bidirectional else seq_length*hidden_dim \n",
    "        hfc = 256 * 2\n",
    "        hfc8 = hfc // 5\n",
    "        \n",
    "        self.DO = nn.Dropout(drop_prob)    \n",
    "        \n",
    "        self.BNgru_0_K = nn.BatchNorm1d(seq_length)\n",
    "        self.rnn_1_1 = nn.GRU(2, hidden_dim, n_layers, batch_first=True\n",
    "                         , bidirectional=bidirectional\n",
    "                        )\n",
    "        self.BNgru_1_1 = nn.BatchNorm1d(seq_length)\n",
    "                            \n",
    "        self.fc_out_1 = nn.Linear(rnn_output_dim + input_tod_dim, hfc)\n",
    "        \n",
    "        self.BNFC_hfc_out_1 = nn.BatchNorm1d(hfc)\n",
    "        \n",
    "        self.fc_out_2 = nn.Linear(hfc, hfc8)\n",
    "        \n",
    "        self.BNFC_hfc_out_2 = nn.BatchNorm1d(hfc8)\n",
    "        \n",
    "        \n",
    "        self.l_out = nn.Linear(in_features=hfc8,\n",
    "                            out_features=output_dim,\n",
    "                            bias=False)\n",
    "\n",
    "    def forward(self, x_seq, x_tod):\n",
    "        features = []\n",
    "        \"\"\"        \n",
    "        out = {}\n",
    "        x_fuse = torch.cat([x_dist.unsqueeze(1),x_br.unsqueeze(1)],dim=1)\n",
    "        x_fuse=self.BNgru_0_K(x_fuse)\n",
    "        \n",
    "        x_fuse = x_fuse.unsqueeze(2)\n",
    "        #print('7',x_fuse.shape)\n",
    "        x_fuse = x_fuse.reshape(sequence_size, -1, x_fuse.shape[1])\n",
    "        #print('8',x_fuse.shape)\n",
    "        \n",
    "        #input of shape (seq_len, batch, input_size)\n",
    "        x_fuse, h_img = self.rnn_1_1(x_fuse)\n",
    "        #print('9',x_fuse.shape)\n",
    "        \n",
    "        x_fuse = x_fuse.reshape(int(x_fuse.shape[1]*x_fuse.shape[0]), -1)\n",
    "        #print('10',x_fuse.shape)\n",
    "        \n",
    "        x_fuse = self.DO(self.BNgru_1_1(relu(x_fuse)))\n",
    "        #print('11',x_fuse.shape)\n",
    "        \n",
    "        features.append(x_fuse)\n",
    "        \n",
    "        #>>>>> x_dTS <<<<<#\n",
    "        #print('ToD******** 1 ',x_dTS.shape)\n",
    "        x_dTS = self.BNgru_0_TS(x_dTS)       \n",
    "        #print('ToD******** 2 ',x_dTS.shape)\n",
    "        features.append(x_dTS)\n",
    "        \n",
    "        ## Output layer where all features are in use ##\n",
    "        #print('12',features[0].shape, features[1].shape)\n",
    "        features_final = torch.cat(features, dim=1)\n",
    "        #print('13',features_final.shape)\n",
    "        features_final = self.BNFC_hfc_out_0(features_final)\n",
    "        #print('14',features_final.shape)\n",
    "        features_final = self.DO(self.BNFC_hfc_out_1(relu(self.fc_out_1(features_final))))\n",
    "        #print('15',features_final.shape)\n",
    "        features_final = self.DO(self.BNFC_hfc_out_2(relu(self.fc_out_2(features_final))))\n",
    "        #print('16',features_final.shape)\n",
    "        #out = log_softmax(self.l_out(features_final), dim=1) \n",
    "        out = softmax(self.l_out(features_final), dim=1) \n",
    "        #print('17',self.l_out(features_final).shape)\n",
    "        return out\n",
    "        \"\"\"        \n",
    "        \n",
    "        # x_seq #\n",
    "        x_seq = self.BNgru_0_K(x_seq)   \n",
    "        \n",
    "        # x_seq : (batch, seq_lenth, seq_features)                              \n",
    "        x_seq = x_seq.permute(1, 0, 2)        \n",
    "        # x_seq : (seq_lenth, batch, seq_features)\n",
    "                \n",
    "        x_seq, h_n = self.rnn_1_1(x_seq)\n",
    "        # x_seq : (seq_len, batch, num_directions * hidden_size):\n",
    "        # h_n : (num_layers * num_directions, batch, hidden_size)\n",
    "\n",
    "        x_seq = x_seq.permute(1, 0, 2)\n",
    "        # x_seq : (batch, seq_lenth, num_directions * hidden_size)\n",
    "        \n",
    "        x_seq = F.relu(x_seq)\n",
    "        x_seq = self.BNgru_1_1(x_seq)\n",
    "               \n",
    "        x_seq = self.DO(x_seq)\n",
    "        \n",
    "        features.append(x_seq)\n",
    "        \n",
    "        # x_tod #\n",
    "        x_tod = x_tod.unsqueeze(2)\n",
    "        features.append(x_tod)\n",
    "        \n",
    "        ## Output layer where all features are in use ##\n",
    "        \n",
    "        features_final = torch.cat(features, dim=2)\n",
    "        features_final = features_final.contiguous().view(features_final.shape[0], -1)\n",
    "        \n",
    "        #features_final = self.BNFC_hfc_out_0(features_final)\n",
    "        \n",
    "        features_final = self.DO(self.BNFC_hfc_out_1(F.relu(self.fc_out_1(features_final))))\n",
    "        \n",
    "        features_final = self.DO(self.BNFC_hfc_out_2(F.relu(self.fc_out_2(features_final))))\n",
    "        \n",
    "        out = self.l_out(features_final)\n",
    "        #out = out.view(features_final.shape[0], self.seq_length, self.output_dim)        \n",
    "        out = F.softmax(out, dim=1) \n",
    "        \n",
    "        \n",
    "        return out"
   ]
  },
  {
   "cell_type": "markdown",
   "metadata": {},
   "source": [
    "#### Define class weights due to large class im-balance"
   ]
  },
  {
   "cell_type": "code",
   "execution_count": 46,
   "metadata": {},
   "outputs": [
    {
     "data": {
      "text/plain": [
       "[1.0, 0.36125205657481785]"
      ]
     },
     "execution_count": 46,
     "metadata": {},
     "output_type": "execute_result"
    }
   ],
   "source": [
    "class_weights = [(data_train['label'] == 0).sum()/(data_train['label'] == x).sum() for x in range(NUM_CLASSES)]\n",
    "class_weights"
   ]
  },
  {
   "cell_type": "markdown",
   "metadata": {},
   "source": [
    "#### Define model, optimizer and loss"
   ]
  },
  {
   "cell_type": "code",
   "execution_count": 47,
   "metadata": {},
   "outputs": [],
   "source": [
    "device = torch.device(\"cuda\" if torch.cuda.is_available() else \"cpu\") # PyTorch v0.4.0\n",
    "model = RnnNet(SEQ_LENGTH, SEQ_FEATURES, RNN_HIDDEN_DIM, bidirectional=False).to(device)\n",
    "optimizer = optim.Adam(model.parameters(), lr=LEARNING_RATE, weight_decay=1e-10)\n",
    "criterion = nn.CrossEntropyLoss(weight = torch.Tensor(class_weights).to(device))"
   ]
  },
  {
   "cell_type": "markdown",
   "metadata": {},
   "source": [
    "#### Number of parameters"
   ]
  },
  {
   "cell_type": "code",
   "execution_count": 48,
   "metadata": {},
   "outputs": [
    {
     "data": {
      "text/plain": [
       "69750"
      ]
     },
     "execution_count": 48,
     "metadata": {},
     "output_type": "execute_result"
    }
   ],
   "source": [
    "np.sum([np.product(x.cpu().detach().numpy().shape) for x in model.parameters()])"
   ]
  },
  {
   "cell_type": "markdown",
   "metadata": {},
   "source": [
    "#### Test input/output of model"
   ]
  },
  {
   "cell_type": "code",
   "execution_count": 49,
   "metadata": {},
   "outputs": [
    {
     "name": "stdout",
     "output_type": "stream",
     "text": [
      "torch.Size([1000, 2])\n"
     ]
    }
   ],
   "source": [
    "out = model(X_seq.to(device), X_tod.to(device))\n",
    "print(out.shape)"
   ]
  },
  {
   "cell_type": "code",
   "execution_count": 50,
   "metadata": {},
   "outputs": [
    {
     "data": {
      "text/plain": [
       "tensor([[0.3687, 0.6313],\n",
       "        [0.7033, 0.2967]], grad_fn=<CopyBackwards>)"
      ]
     },
     "execution_count": 50,
     "metadata": {},
     "output_type": "execute_result"
    }
   ],
   "source": [
    "out[:2].cpu()"
   ]
  },
  {
   "cell_type": "code",
   "execution_count": 51,
   "metadata": {},
   "outputs": [],
   "source": [
    "phases = {\n",
    "    'train': {\n",
    "        'dataloader': train_dataloader,\n",
    "        'is_training': True,\n",
    "    },\n",
    "    'validation': {\n",
    "        'dataloader': val_dataloader,\n",
    "        'is_training': False,\n",
    "    },\n",
    "    'test': {\n",
    "        'dataloader': test_dataloader,\n",
    "        'is_training': False,\n",
    "    }\n",
    "}"
   ]
  },
  {
   "cell_type": "markdown",
   "metadata": {},
   "source": [
    "### Train / Validation loop"
   ]
  },
  {
   "cell_type": "code",
   "execution_count": 52,
   "metadata": {},
   "outputs": [
    {
     "data": {
      "image/png": "[encoded data removed]",
      "text/plain": [
       "<Figure size 1152x648 with 1 Axes>"
      ]
     },
     "metadata": {
      "needs_background": "light"
     },
     "output_type": "display_data"
    }
   ],
   "source": [
    "for epoch in range(1, NUM_EPOCH + 1):\n",
    "    \n",
    "    for phase_name, phase in phases.items():\n",
    "        epoach_loss = 0.0\n",
    "                \n",
    "        phase_is_training = phase['is_training']\n",
    "        phase_dataloader = phase['dataloader']\n",
    "        model.train(phase_is_training)\n",
    "        \n",
    "        # Ajust and save the learning rate in the phase dict\n",
    "        if phase_is_training:\n",
    "            lr = adjust_lr(optimizer, epoch)\n",
    "            phase.setdefault('lr', []).append(lr)\n",
    "            \n",
    "        # Iterate over each bath in the phase\n",
    "        for i, batch in enumerate(phase_dataloader, 1):\n",
    "            X_seq, X_tod, y = batch\n",
    "\n",
    "            X_seq = X_seq.to(device)\n",
    "            X_tod = X_tod.to(device)\n",
    "            y = y.to(device)\n",
    "\n",
    "            with torch.set_grad_enabled(phase_is_training):\n",
    "                out = model(X_seq, X_tod)\n",
    "                loss = criterion(out, y)\n",
    "\n",
    "            if phase_is_training:\n",
    "                optimizer.zero_grad()\n",
    "                loss.backward()\n",
    "                optimizer.step()\n",
    "        \n",
    "            epoach_loss += loss.item()\n",
    "        \n",
    "        # Save the loss for the epoch in the phase dict\n",
    "        phase.setdefault('loss', []).append(epoach_loss/i)\n",
    "        \n",
    "    clear_output(wait=True)\n",
    "    fig, ax = plt.subplots(figsize = (16, 9))\n",
    "    #ax.set_yscale('log')\n",
    "    \n",
    "    for phase_name, phase in phases.items():\n",
    "        ax.plot(np.arange(1, epoch + 1), phase['loss'], label = phase_name)        \n",
    "    \n",
    "    ax.legend()\n",
    "    plt.show();            "
   ]
  },
  {
   "cell_type": "markdown",
   "metadata": {},
   "source": [
    "### Validation/Test prediction loop"
   ]
  },
  {
   "cell_type": "code",
   "execution_count": 53,
   "metadata": {},
   "outputs": [],
   "source": [
    "for phase_name, phase in phases.items():\n",
    "    if phase['is_training']: \n",
    "        continue\n",
    "    \n",
    "    phase_dataloader = phase['dataloader']\n",
    "    phase['predicted'] = []\n",
    "    phase['true'] = []\n",
    "    \n",
    "    for i, batch in enumerate(phase_dataloader, 1):\n",
    "        X_seq, X_tod, y = batch\n",
    "\n",
    "        X_seq = X_seq.to(device)\n",
    "        X_tod = X_tod.to(device)\n",
    "        y = y.to(device)\n",
    "        \n",
    "        with torch.no_grad():\n",
    "            out = model(X_seq, X_tod)\n",
    "            probability, predicted = torch.max(out, 1)\n",
    "            correct = (predicted == y).cpu().numpy()\n",
    "            \n",
    "        phase['predicted'].extend(list(predicted.cpu().numpy()))\n",
    "        phase['true'].extend(list(y.cpu().numpy()))"
   ]
  },
  {
   "cell_type": "markdown",
   "metadata": {},
   "source": [
    "### Final results"
   ]
  },
  {
   "cell_type": "code",
   "execution_count": 54,
   "metadata": {},
   "outputs": [
    {
     "name": "stdout",
     "output_type": "stream",
     "text": [
      "validation\n",
      "              precision    recall  f1-score   support\n",
      "\n",
      "      Motion       0.89      0.09      0.17     43324\n",
      "        Stop       0.65      0.99      0.78     72617\n",
      "\n",
      "   micro avg       0.66      0.66      0.66    115941\n",
      "   macro avg       0.77      0.54      0.48    115941\n",
      "weighted avg       0.74      0.66      0.55    115941\n",
      "\n",
      "test\n",
      "              precision    recall  f1-score   support\n",
      "\n",
      "      Motion       0.92      0.61      0.74     42471\n",
      "        Stop       0.88      0.98      0.93    126024\n",
      "\n",
      "   micro avg       0.89      0.89      0.89    168495\n",
      "   macro avg       0.90      0.80      0.83    168495\n",
      "weighted avg       0.89      0.89      0.88    168495\n",
      "\n"
     ]
    }
   ],
   "source": [
    "for phase_name, phase in phases.items():\n",
    "    if phase['is_training']: \n",
    "        continue\n",
    "    \n",
    "    print(phase_name)\n",
    "    print(classification_report(phase['true'], phase['predicted'], target_names = ['Motion','Stop']))"
   ]
  },
  {
   "cell_type": "code",
   "execution_count": null,
   "metadata": {},
   "outputs": [],
   "source": []
  }
 ],
 "metadata": {
  "kernelspec": {
   "display_name": "Python 3",
   "language": "python",
   "name": "python3"
  },
  "language_info": {
   "codemirror_mode": {
    "name": "ipython",
    "version": 3
   },
   "file_extension": ".py",
   "mimetype": "text/x-python",
   "name": "python",
   "nbconvert_exporter": "python",
   "pygments_lexer": "ipython3",
   "version": "3.6.7"
  }
 },
 "nbformat": 4,
 "nbformat_minor": 2
}
