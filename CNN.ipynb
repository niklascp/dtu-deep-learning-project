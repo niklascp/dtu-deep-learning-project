{
 "cells": [
  {
   "cell_type": "markdown",
   "metadata": {},
   "source": [
    "# Model 2 - Convolutional neural network (CNN) using only geo-spatial features"
   ]
  },
  {
   "cell_type": "code",
   "execution_count": 14,
   "metadata": {},
   "outputs": [],
   "source": [
    "%load_ext autoreload\n",
    "%autoreload 2\n",
    "\n",
    "import sys\n",
    "\n",
    "sys.path.append('./src')\n",
    "from data_utils import *\n",
    "clear_output(wait=False)"
   ]
  },
  {
   "cell_type": "markdown",
   "metadata": {},
   "source": [
    "### Load train, validation and test data"
   ]
  },
  {
   "cell_type": "code",
   "execution_count": 15,
   "metadata": {},
   "outputs": [],
   "source": [
    "user_train, user_val, user_test = train, val, test = train_test_data_split()"
   ]
  },
  {
   "cell_type": "code",
   "execution_count": 16,
   "metadata": {},
   "outputs": [],
   "source": [
    "data_train = pd.concat([create_data_frame(*load_user_data(user), segmentation=True) for user in user_train]).reset_index(drop=True)\n",
    "data_val = pd.concat([create_data_frame(*load_user_data(user), segmentation=True) for user in user_val]).reset_index(drop=True)\n",
    "data_test = pd.concat([create_data_frame(*load_user_data(user), segmentation=True) for user in user_test]).reset_index(drop=True)"
   ]
  },
  {
   "cell_type": "markdown",
   "metadata": {},
   "source": [
    "Segmentation is not strictly needed for the CNN-only model, but in order to ensure the datesets accross all three models are the same we still perform it here, and purge all points that would otherwise been purged to build the sequences."
   ]
  },
  {
   "cell_type": "code",
   "execution_count": 17,
   "metadata": {},
   "outputs": [],
   "source": [
    "data_train = data_train[data_train['segment_ix'] >= 5]\n",
    "data_val = data_val[data_val['segment_ix'] >= 5]\n",
    "data_test = data_test[data_test['segment_ix'] >= 5]"
   ]
  },
  {
   "cell_type": "markdown",
   "metadata": {},
   "source": [
    "#### Example input data\n",
    "\n",
    "Here we only use the ``user`` and ``image_ix`` to lookup the precomputed image frame and time of day ``tod`` as input, output is the ``label``, where *0 = motion*, and *1 = stop*:"
   ]
  },
  {
   "cell_type": "code",
   "execution_count": 18,
   "metadata": {},
   "outputs": [
    {
     "data": {
      "text/html": [
       "<div>\n",
       "<style scoped>\n",
       "    .dataframe tbody tr th:only-of-type {\n",
       "        vertical-align: middle;\n",
       "    }\n",
       "\n",
       "    .dataframe tbody tr th {\n",
       "        vertical-align: top;\n",
       "    }\n",
       "\n",
       "    .dataframe thead th {\n",
       "        text-align: right;\n",
       "    }\n",
       "</style>\n",
       "<table border=\"1\" class=\"dataframe\">\n",
       "  <thead>\n",
       "    <tr style=\"text-align: right;\">\n",
       "      <th></th>\n",
       "      <th>user</th>\n",
       "      <th>image_ix</th>\n",
       "      <th>tod</th>\n",
       "      <th>label</th>\n",
       "    </tr>\n",
       "  </thead>\n",
       "  <tbody>\n",
       "    <tr>\n",
       "      <th>49</th>\n",
       "      <td>8</td>\n",
       "      <td>637</td>\n",
       "      <td>2</td>\n",
       "      <td>0</td>\n",
       "    </tr>\n",
       "    <tr>\n",
       "      <th>50</th>\n",
       "      <td>8</td>\n",
       "      <td>638</td>\n",
       "      <td>2</td>\n",
       "      <td>0</td>\n",
       "    </tr>\n",
       "    <tr>\n",
       "      <th>111</th>\n",
       "      <td>8</td>\n",
       "      <td>699</td>\n",
       "      <td>3</td>\n",
       "      <td>0</td>\n",
       "    </tr>\n",
       "    <tr>\n",
       "      <th>112</th>\n",
       "      <td>8</td>\n",
       "      <td>700</td>\n",
       "      <td>3</td>\n",
       "      <td>0</td>\n",
       "    </tr>\n",
       "    <tr>\n",
       "      <th>113</th>\n",
       "      <td>8</td>\n",
       "      <td>701</td>\n",
       "      <td>3</td>\n",
       "      <td>0</td>\n",
       "    </tr>\n",
       "  </tbody>\n",
       "</table>\n",
       "</div>"
      ],
      "text/plain": [
       "     user  image_ix  tod  label\n",
       "49      8       637    2      0\n",
       "50      8       638    2      0\n",
       "111     8       699    3      0\n",
       "112     8       700    3      0\n",
       "113     8       701    3      0"
      ]
     },
     "execution_count": 18,
     "metadata": {},
     "output_type": "execute_result"
    }
   ],
   "source": [
    "data_train[['user', 'image_ix', 'tod', 'label']].head(5)"
   ]
  },
  {
   "cell_type": "markdown",
   "metadata": {},
   "source": [
    "### Load precomputed image frames"
   ]
  },
  {
   "cell_type": "code",
   "execution_count": 19,
   "metadata": {},
   "outputs": [],
   "source": [
    "image_data = {}\n",
    "for user_id in user_train + user_val + user_test:\n",
    "    with open(f'/mnt/array/valse_data/DeepLearning/Project/Pickle/images_list_{user_id}.pickle', 'rb') as f:\n",
    "        image_data[user_id] = np.stack(pickle.load(f), axis = 0).astype(float)"
   ]
  },
  {
   "cell_type": "markdown",
   "metadata": {},
   "source": [
    "#### Example GIS image data"
   ]
  },
  {
   "cell_type": "code",
   "execution_count": 24,
   "metadata": {},
   "outputs": [
    {
     "data": {
      "image/png": "[encoded data removed]",
      "text/plain": [
       "<Figure size 864x288 with 3 Axes>"
      ]
     },
     "metadata": {},
     "output_type": "display_data"
    }
   ],
   "source": [
    "from bokeh.palettes import Set1_9 \n",
    "image_sample_ix = data_train[lambda x: (x['label'] == 0) & (x['delta_t'] <= 1)].sample(3, random_state = 42)[['user', 'image_ix']].values\n",
    "fig, ax = plt.subplots(figsize = (3*4, 4), ncols = 3)\n",
    "for j, (user_id, image_ix) in enumerate(image_sample_ix):\n",
    "    ax[j].set_title(f'User {user_id}, Frame {image_ix}')\n",
    "    for i, feature_ix in enumerate([4, 5, 3, 6, 7, 8, 10, 0, 2]):\n",
    "        feature = image_data[user_id][image_ix][:,:,feature_ix]\n",
    "        color = list(hex_to_rgb(Set1_9[i]))\n",
    "        color.append(200)\n",
    "        layer = np.stack([(feature >= 1) * c / 255. for c in color], axis = 2)\n",
    "        ax[j].imshow(layer, origin = 'lower')\n",
    "        ax[j].tick_params(\n",
    "            axis='both',       # changes apply to the x-axis\n",
    "            which='both',      # both major and minor ticks are affected\n",
    "            left=False,      # ticks along the bottom edge are off\n",
    "            right=False,         # ticks along the top edge are off\n",
    "            bottom=False,      # ticks along the bottom edge are off\n",
    "            top=False,         # ticks along the top edge are off\n",
    "            labelbottom=False,\n",
    "            labelleft=False) # labels along the bottom edge are off\n",
    "plt.savefig(\"context_frame.svg\", bbox_inches='tight')"
   ]
  },
  {
   "cell_type": "markdown",
   "metadata": {},
   "source": [
    "#### Numer of training data points"
   ]
  },
  {
   "cell_type": "code",
   "execution_count": 25,
   "metadata": {},
   "outputs": [],
   "source": [
    "import torch\n",
    "import torch.nn as nn\n",
    "import torch.nn.functional as F\n",
    "import torch.optim as optim"
   ]
  },
  {
   "cell_type": "markdown",
   "metadata": {},
   "source": [
    "#### Define Image Tensor Dataset\n",
    "\n",
    "We implement our own Tensor Dataset in order to be able to do fast lookup of images."
   ]
  },
  {
   "cell_type": "code",
   "execution_count": 26,
   "metadata": {},
   "outputs": [],
   "source": [
    "class ImageTensorDataset(torch.utils.data.Dataset):\n",
    "\n",
    "    def __init__(self, df, image_data):\n",
    "        self.labels = df['label'].values\n",
    "        self.tod = df['tod'].values\n",
    "        self.user_id = df['user'].values\n",
    "        self.image_ix = df['image_ix'].values        \n",
    "        self.image_data = image_data\n",
    "        self.tod_one_hot = np.eye(6)\n",
    "        \n",
    "    def __len__(self):\n",
    "        return len(self.labels)\n",
    "    \n",
    "    def __getitem__(self, key):\n",
    "        image = self.image_data[self.user_id[key]][self.image_ix[key]]\n",
    "        tod_one_hot = self.tod_one_hot[self.tod[key]]\n",
    "        return image, tod_one_hot, self.labels[key]   "
   ]
  },
  {
   "cell_type": "markdown",
   "metadata": {},
   "source": [
    "## Example Input/output data from ``TensorDataset``"
   ]
  },
  {
   "cell_type": "code",
   "execution_count": 27,
   "metadata": {},
   "outputs": [
    {
     "name": "stdout",
     "output_type": "stream",
     "text": [
      "X_img : torch.Size([3, 9, 9, 11])\n",
      "tensor([[0., 0., 0., 0., 0., 1., 0., 0., 0.],\n",
      "        [0., 0., 0., 0., 0., 1., 1., 0., 0.],\n",
      "        [0., 0., 0., 0., 0., 0., 1., 0., 0.],\n",
      "        [0., 0., 0., 0., 0., 0., 1., 0., 0.],\n",
      "        [0., 0., 0., 0., 0., 0., 1., 0., 0.],\n",
      "        [0., 0., 0., 0., 0., 0., 1., 0., 0.],\n",
      "        [0., 0., 0., 0., 0., 0., 1., 0., 0.],\n",
      "        [0., 0., 0., 0., 0., 0., 1., 0., 0.],\n",
      "        [0., 0., 0., 0., 0., 0., 1., 0., 0.]], dtype=torch.float64)\n",
      "X_tod : torch.Size([3, 6])\n",
      "tensor([0., 0., 0., 1., 0., 0.], dtype=torch.float64)\n",
      "y : torch.Size([3])\n",
      "tensor(0)\n"
     ]
    }
   ],
   "source": [
    "demo_dataset = ImageTensorDataset(data_train.head(3), image_data)\n",
    "\n",
    "for X_img, X_tod, y in torch.utils.data.DataLoader(demo_dataset, batch_size=3, shuffle=True):\n",
    "    print('X_img :', X_img.shape)\n",
    "    print(X_img[0, :, :, 0])\n",
    "    print('X_tod :', X_tod.shape)\n",
    "    print(X_tod[0])\n",
    "    print('y :', y.shape)\n",
    "    print(y[0])"
   ]
  },
  {
   "cell_type": "markdown",
   "metadata": {},
   "source": [
    "### Hyper Parameters"
   ]
  },
  {
   "cell_type": "code",
   "execution_count": 43,
   "metadata": {},
   "outputs": [],
   "source": [
    "IMG_INPUT_H_W = 9, 9\n",
    "IMG_INPUT_C = 11\n",
    "TOD_INPUT_DIM = 6\n",
    "CNN_HIDDEN_DIM = 32\n",
    "CNN_HIDDEN_DIM_2 = 16\n",
    "CNN_KERNEL_SIZE = 3\n",
    "CNN_PADDING = 1\n",
    "FC_HIDDEN_DIM = 16\n",
    "NUM_CLASSES = 2\n",
    "\n",
    "DROPOUT_PROP = .2\n",
    "\n",
    "NUM_EPOCH = 25\n",
    "BATCH_SIZE = 12000\n",
    "LEARNING_RATE = 0.1\n",
    "LEARNING_DECAY_FACTOR = 0.1\n",
    "LEARNING_DECAY_EPOCHS = [15,20]"
   ]
  },
  {
   "cell_type": "markdown",
   "metadata": {},
   "source": [
    "#### Define Data Loaders"
   ]
  },
  {
   "cell_type": "code",
   "execution_count": 44,
   "metadata": {},
   "outputs": [],
   "source": [
    "train_dataloader = torch.utils.data.DataLoader(ImageTensorDataset(data_train, image_data), batch_size=BATCH_SIZE, shuffle=True)\n",
    "val_dataloader = torch.utils.data.DataLoader(ImageTensorDataset(data_val, image_data), batch_size=BATCH_SIZE, shuffle=True)\n",
    "test_dataloader = torch.utils.data.DataLoader(ImageTensorDataset(data_test, image_data), batch_size=BATCH_SIZE, shuffle=True)"
   ]
  },
  {
   "cell_type": "markdown",
   "metadata": {},
   "source": [
    "#### Define some utility functions for building and running the network"
   ]
  },
  {
   "cell_type": "code",
   "execution_count": 45,
   "metadata": {},
   "outputs": [],
   "source": [
    "def adjust_lr(optimizer, epoch):\n",
    "    number_decay_points_passed = np.sum(epoch >= np.array(LEARNING_DECAY_EPOCHS))\n",
    "    lr = LEARNING_RATE * (LEARNING_DECAY_FACTOR ** number_decay_points_passed)\n",
    "    for param_group in optimizer.param_groups:\n",
    "        param_group['lr'] = lr\n",
    "    return lr\n",
    "\n",
    "def conv2d_output_shape(h_w, kernel_size=1, stride=1, padding=0, dilation=1):\n",
    "    from math import floor\n",
    "    if type(kernel_size) is not tuple:\n",
    "        kernel_size = (kernel_size, kernel_size)\n",
    "    h = floor( ((h_w[0] + (2 * padding) - ( dilation * (kernel_size[0] - 1) ) - 1 )/ stride) + 1)\n",
    "    w = floor( ((h_w[1] + (2 * padding) - ( dilation * (kernel_size[1] - 1) ) - 1 )/ stride) + 1)\n",
    "    return h, w"
   ]
  },
  {
   "cell_type": "markdown",
   "metadata": {},
   "source": [
    "### Define network for Convolutional neural network (CNN) using only geo-spatial features"
   ]
  },
  {
   "cell_type": "code",
   "execution_count": 46,
   "metadata": {},
   "outputs": [],
   "source": [
    "class CnnNet(nn.Module):\n",
    "\n",
    "    def __init__(self):\n",
    "        super(CnnNet, self).__init__()\n",
    "        \n",
    "        self.layer1 = nn.Sequential(\n",
    "            nn.Conv2d(IMG_INPUT_C, CNN_HIDDEN_DIM, kernel_size=CNN_KERNEL_SIZE, padding=CNN_PADDING),\n",
    "            nn.BatchNorm2d(CNN_HIDDEN_DIM),\n",
    "            nn.ReLU(),\n",
    "            nn.MaxPool2d(kernel_size=3, stride=2),\n",
    "            nn.Dropout(DROPOUT_PROP)\n",
    "        )\n",
    "        \n",
    "        h, w = IMG_INPUT_H_W\n",
    "        #print(h, w)\n",
    "        h, w = conv2d_output_shape((h, w), CNN_KERNEL_SIZE, padding=CNN_PADDING)\n",
    "        #print(h, w)\n",
    "        h, w = conv2d_output_shape((h, w), kernel_size=3, stride=2, padding=0)        \n",
    "        #print(h, w)\n",
    "        self.layer2 = nn.Sequential(\n",
    "            nn.Conv2d(CNN_HIDDEN_DIM, CNN_HIDDEN_DIM_2, kernel_size=CNN_KERNEL_SIZE, padding=CNN_PADDING),\n",
    "            nn.BatchNorm2d(CNN_HIDDEN_DIM_2),\n",
    "            nn.ReLU(),\n",
    "            nn.MaxPool2d(kernel_size=2, stride=2),\n",
    "            nn.Dropout(DROPOUT_PROP)\n",
    "        )\n",
    "        \n",
    "        h, w = conv2d_output_shape((h, w), CNN_KERNEL_SIZE, padding=CNN_PADDING)\n",
    "        #print(h, w)\n",
    "        h, w = conv2d_output_shape((h, w), kernel_size=2, stride=2, padding=0)\n",
    "        #print(h, w)\n",
    "        \n",
    "        self.fc1 = nn.Linear(CNN_HIDDEN_DIM_2 * h * w + TOD_INPUT_DIM, FC_HIDDEN_DIM)\n",
    "        self.fc2 = nn.Linear(FC_HIDDEN_DIM, NUM_CLASSES)        \n",
    "\n",
    "    def forward(self, X_img, X_tod):\n",
    "        X_img = X_img.permute(0, 3, 1, 2)\n",
    "        out = self.layer1(X_img)\n",
    "        out = self.layer2(out)\n",
    "        out = out.reshape(out.size(0), -1)\n",
    "        #print(out.shape)\n",
    "        #print(X_tod.shape)\n",
    "        out = torch.cat([out, X_tod], dim=1)\n",
    "        out = self.fc1(out)\n",
    "        out = self.fc2(out)\n",
    "        out = F.softmax(out, dim=1)\n",
    "        return out"
   ]
  },
  {
   "cell_type": "markdown",
   "metadata": {},
   "source": [
    "#### Define class weights due to large class im-balance"
   ]
  },
  {
   "cell_type": "code",
   "execution_count": 47,
   "metadata": {},
   "outputs": [
    {
     "data": {
      "text/plain": [
       "[1.0, 0.3686257150152608]"
      ]
     },
     "execution_count": 47,
     "metadata": {},
     "output_type": "execute_result"
    }
   ],
   "source": [
    "class_weights = [(data_train['label'] == 0).sum()/(data_train['label'] == x).sum() for x in range(NUM_CLASSES)]\n",
    "class_weights"
   ]
  },
  {
   "cell_type": "markdown",
   "metadata": {},
   "source": [
    "#### Define model, optimizer and loss"
   ]
  },
  {
   "cell_type": "code",
   "execution_count": 48,
   "metadata": {},
   "outputs": [],
   "source": [
    "device = torch.device('cuda:1') # PyTorch v0.4.0\n",
    "model = CnnNet().to(device)\n",
    "optimizer = optim.Adam(model.parameters(), lr=LEARNING_RATE, weight_decay=1e-10)\n",
    "criterion = nn.CrossEntropyLoss(weight = torch.Tensor(class_weights).to(device))"
   ]
  },
  {
   "cell_type": "markdown",
   "metadata": {},
   "source": [
    "#### Number of parameters"
   ]
  },
  {
   "cell_type": "code",
   "execution_count": 49,
   "metadata": {},
   "outputs": [
    {
     "data": {
      "text/plain": [
       "9090"
      ]
     },
     "execution_count": 49,
     "metadata": {},
     "output_type": "execute_result"
    }
   ],
   "source": [
    "np.sum([np.product(x.cpu().detach().numpy().shape) for x in model.parameters()])"
   ]
  },
  {
   "cell_type": "markdown",
   "metadata": {},
   "source": [
    "#### Test input/output of model"
   ]
  },
  {
   "cell_type": "code",
   "execution_count": 50,
   "metadata": {},
   "outputs": [
    {
     "name": "stdout",
     "output_type": "stream",
     "text": [
      "torch.Size([306, 2])\n"
     ]
    }
   ],
   "source": [
    "out = model(X_img.to(device, dtype=torch.float), X_tod.to(device, dtype=torch.float))\n",
    "print(out.shape)"
   ]
  },
  {
   "cell_type": "code",
   "execution_count": 51,
   "metadata": {},
   "outputs": [
    {
     "data": {
      "text/plain": [
       "tensor([[0.6037, 0.3963],\n",
       "        [0.5984, 0.4016]], grad_fn=<CopyBackwards>)"
      ]
     },
     "execution_count": 51,
     "metadata": {},
     "output_type": "execute_result"
    }
   ],
   "source": [
    "out[:2].cpu()"
   ]
  },
  {
   "cell_type": "code",
   "execution_count": null,
   "metadata": {},
   "outputs": [],
   "source": []
  },
  {
   "cell_type": "code",
   "execution_count": 52,
   "metadata": {},
   "outputs": [],
   "source": [
    "phases = {\n",
    "    'train': {\n",
    "        'dataloader': train_dataloader,\n",
    "        'is_training': True,\n",
    "    },\n",
    "    'validation': {\n",
    "        'dataloader': val_dataloader,\n",
    "        'is_training': False,\n",
    "    },\n",
    "    'test': {\n",
    "        'dataloader': test_dataloader,\n",
    "        'is_training': False,\n",
    "    }\n",
    "}"
   ]
  },
  {
   "cell_type": "markdown",
   "metadata": {},
   "source": [
    "### Train / Validation loop"
   ]
  },
  {
   "cell_type": "code",
   "execution_count": null,
   "metadata": {},
   "outputs": [],
   "source": [
    "for epoch in range(1, NUM_EPOCH + 1):\n",
    "    \n",
    "    for phase_name, phase in phases.items():\n",
    "        epoach_loss = 0.0\n",
    "                \n",
    "        phase_is_training = phase['is_training']\n",
    "        phase_dataloader = phase['dataloader']\n",
    "        model.train(phase_is_training)\n",
    "        \n",
    "        # Ajust and save the learning rate in the phase dict\n",
    "        if phase_is_training:\n",
    "            lr = adjust_lr(optimizer, epoch)\n",
    "            phase.setdefault('lr', []).append(lr)\n",
    "            \n",
    "        # Iterate over each bath in the phase\n",
    "        for i, batch in enumerate(phase_dataloader, 1):\n",
    "            #print(i)\n",
    "            X_seq, X_tod, y = batch\n",
    "            \n",
    "\n",
    "            X_seq = X_seq.to(device, dtype=torch.float)\n",
    "            X_tod = X_tod.to(device, dtype=torch.float)\n",
    "            y = y.to(device, dtype=torch.int64)\n",
    "\n",
    "            with torch.set_grad_enabled(phase_is_training):\n",
    "                out = model(X_seq, X_tod)\n",
    "                loss = criterion(out, y)\n",
    "\n",
    "            if phase_is_training:\n",
    "                optimizer.zero_grad()\n",
    "                loss.backward()\n",
    "                nn.utils.clip_grad_value_(model.parameters(), 0.5)\n",
    "                optimizer.step()\n",
    "        \n",
    "            epoach_loss += loss.item()\n",
    "        \n",
    "        # Save the loss for the epoch in the phase dict\n",
    "        phase.setdefault('loss', []).append(epoach_loss/i)\n",
    "        \n",
    "    clear_output(wait=True)\n",
    "    fig, ax = plt.subplots(figsize = (16, 9))\n",
    "    #ax.set_yscale('log')\n",
    "    \n",
    "    for phase_name, phase in phases.items():\n",
    "        ax.plot(np.arange(1, epoch + 1), phase['loss'], label = phase_name)        \n",
    "    \n",
    "    ax.legend()\n",
    "    plt.show();            "
   ]
  },
  {
   "cell_type": "markdown",
   "metadata": {},
   "source": [
    "### Validation/Test prediction loop"
   ]
  },
  {
   "cell_type": "code",
   "execution_count": null,
   "metadata": {},
   "outputs": [],
   "source": [
    "for phase_name, phase in phases.items():\n",
    "    if phase['is_training']: \n",
    "        continue\n",
    "    \n",
    "    phase_dataloader = phase['dataloader']\n",
    "    phase['predicted'] = []\n",
    "    phase['true'] = []\n",
    "    \n",
    "    for i, batch in enumerate(phase_dataloader, 1):\n",
    "        X_img, X_tod, y = batch\n",
    "\n",
    "        phase['true'].extend(list(y.numpy()))\n",
    "        \n",
    "        X_img = X_img.to(device, dtype=torch.float)\n",
    "        X_tod = X_tod.to(device, dtype=torch.float)\n",
    "        y = y.to(device, dtype=torch.float)\n",
    "        \n",
    "        with torch.no_grad():\n",
    "            out = model(X_img, X_tod)\n",
    "            probability, predicted = torch.max(out, 1)\n",
    "            \n",
    "        phase['predicted'].extend(list(predicted.cpu().numpy()))        "
   ]
  },
  {
   "cell_type": "markdown",
   "metadata": {},
   "source": [
    "### Final results"
   ]
  },
  {
   "cell_type": "code",
   "execution_count": null,
   "metadata": {},
   "outputs": [],
   "source": [
    "for phase_name, phase in phases.items():\n",
    "    if phase['is_training']: \n",
    "        continue\n",
    "    \n",
    "    print(phase_name)\n",
    "    print(classification_report(phase['true'], phase['predicted'], target_names = ['Motion','Stop']))"
   ]
  },
  {
   "cell_type": "code",
   "execution_count": null,
   "metadata": {},
   "outputs": [],
   "source": []
  }
 ],
 "metadata": {
  "kernelspec": {
   "display_name": "Python 3",
   "language": "python",
   "name": "python3"
  },
  "language_info": {
   "codemirror_mode": {
    "name": "ipython",
    "version": 3
   },
   "file_extension": ".py",
   "mimetype": "text/x-python",
   "name": "python",
   "nbconvert_exporter": "python",
   "pygments_lexer": "ipython3",
   "version": "3.6.7"
  }
 },
 "nbformat": 4,
 "nbformat_minor": 2
}
